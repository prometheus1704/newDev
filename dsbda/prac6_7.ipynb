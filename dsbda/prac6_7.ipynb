{
 "cells": [
  {
   "cell_type": "code",
   "execution_count": null,
   "id": "ba241764",
   "metadata": {},
   "outputs": [],
   "source": [
    "import seaborn as sns\n",
    "import pandas as pd\n",
    "import matplotlib.pyplot as plt\n",
    "\n",
    "\n",
    "df = sns.load_dataset('titanic')\n",
    "\n",
    "print(df.info())\n",
    "df.describe()"
   ]
  },
  {
   "cell_type": "code",
   "execution_count": null,
   "id": "de973a31",
   "metadata": {},
   "outputs": [],
   "source": [
    "df.iloc[:50]"
   ]
  },
  {
   "cell_type": "code",
   "execution_count": null,
   "id": "cd67e89b",
   "metadata": {},
   "outputs": [],
   "source": [
    "req = df[['survived', 'fare']]\n",
    "req['fare'].max()"
   ]
  },
  {
   "cell_type": "code",
   "execution_count": null,
   "id": "3515d528",
   "metadata": {},
   "outputs": [],
   "source": [
    "sns.histplot(req['fare'],bins=30,kde=True)\n",
    "plt.xlabel('Fare')\n",
    "plt.ylabel('Number of Passengers')\n",
    "plt.grid(True)\n",
    "plt.show()"
   ]
  },
  {
   "cell_type": "code",
   "execution_count": null,
   "id": "9f477d5e",
   "metadata": {},
   "outputs": [],
   "source": [
    "ageData = df[['age','survived']].copy()\n",
    "print(ageData.head())\n",
    "ageData['age']=ageData['age'].fillna(ageData['age'].median())\n"
   ]
  },
  {
   "cell_type": "code",
   "execution_count": null,
   "id": "e507ff56",
   "metadata": {},
   "outputs": [],
   "source": [
    "ageData.isnull().sum()"
   ]
  },
  {
   "cell_type": "code",
   "execution_count": null,
   "id": "3d4b8d0e",
   "metadata": {},
   "outputs": [],
   "source": [
    "\n",
    "plt.figure(figsize=(10, 8))\n",
    "sns.boxplot(x='survived', y='age', data=ageData, showfliers=False)\n",
    "plt.title('Age Distribution by Survival (Without Outliers)')\n",
    "plt.xlabel('Survived (0=No, 1=Yes)')\n",
    "plt.ylabel('Age')\n",
    "plt.grid(True, linestyle='--', alpha=0.7)\n",
    "plt.tight_layout()\n",
    "plt.show()"
   ]
  },
  {
   "cell_type": "code",
   "execution_count": null,
   "id": "4777f2b4",
   "metadata": {},
   "outputs": [],
   "source": [
    "plt.figure(figsize=(10, 6))\n",
    "sns.histplot(df['fare'], bins=30, kde=True)\n",
    "\n",
    "plt.title('Distribution of Ticket Fare')\n",
    "plt.xlabel('Fare')\n",
    "plt.ylabel('Number of Passengers')\n",
    "plt.grid(True)\n",
    "plt.show()\n"
   ]
  },
  {
   "cell_type": "code",
   "execution_count": null,
   "id": "9e11f561",
   "metadata": {},
   "outputs": [],
   "source": [
    "# prac 7\n",
    "new_df = df[['sex','age']].copy()\n",
    "new_df['age'] = new_df['age'].fillna(new_df['age'].median())\n",
    "# new_df['sex'].isnull().sum()"
   ]
  },
  {
   "cell_type": "code",
   "execution_count": null,
   "id": "1f0b728f",
   "metadata": {},
   "outputs": [],
   "source": [
    "plt.figure(figsize=(8, 6))\n",
    "sns.boxplot(x='sex', y='age', data=new_df, showfliers=False)\n",
    "plt.title('Sex vs Age Distribution')\n",
    "plt.xlabel('Sex')\n",
    "plt.ylabel('Age')\n",
    "plt.grid(True, linestyle='--', alpha=0.7)\n",
    "plt.tight_layout()\n",
    "plt.show()\n"
   ]
  },
  {
   "cell_type": "code",
   "execution_count": null,
   "id": "563ccf1b",
   "metadata": {},
   "outputs": [],
   "source": []
  },
  {
   "cell_type": "code",
   "execution_count": null,
   "id": "ae96fedc",
   "metadata": {},
   "outputs": [],
   "source": [
    "sns.countplot(x='sex', hue='survived', data=df)\n",
    "plt.title('Survival Count by Gender')\n",
    "plt.show()\n"
   ]
  },
  {
   "cell_type": "code",
   "execution_count": null,
   "id": "8414a8b1",
   "metadata": {},
   "outputs": [],
   "source": [
    "sns.countplot(x='pclass', hue='survived', data=df)\n",
    "plt.title('Survival Count by Passenger Class')\n",
    "plt.show()\n"
   ]
  },
  {
   "cell_type": "code",
   "execution_count": null,
   "id": "f880dc14",
   "metadata": {},
   "outputs": [],
   "source": []
  },
  {
   "cell_type": "code",
   "execution_count": null,
   "id": "2ccd1d53",
   "metadata": {},
   "outputs": [],
   "source": []
  }
 ],
 "metadata": {
  "kernelspec": {
   "display_name": "Python 3",
   "language": "python",
   "name": "python3"
  },
  "language_info": {
   "codemirror_mode": {
    "name": "ipython",
    "version": 3
   },
   "file_extension": ".py",
   "mimetype": "text/x-python",
   "name": "python",
   "nbconvert_exporter": "python",
   "pygments_lexer": "ipython3",
   "version": "3.12.6"
  }
 },
 "nbformat": 4,
 "nbformat_minor": 5
}
