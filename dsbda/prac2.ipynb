{
 "cells": [
  {
   "cell_type": "code",
   "execution_count": null,
   "id": "9eaffd45",
   "metadata": {},
   "outputs": [],
   "source": [
    "import pandas as pd\n",
    "import numpy as np \n",
    "import matplotlib.pyplot as plt\n",
    "import seaborn as sns \n"
   ]
  },
  {
   "cell_type": "code",
   "execution_count": null,
   "id": "caf3b17b",
   "metadata": {},
   "outputs": [],
   "source": [
    "data1 = {\n",
    "    'StudentID': [101, 102, 103, 104, 105, 106, 107, 108, 109, 110],\n",
    "    'Name': ['Alice', 'Bob', 'Charlie', 'David', 'Eva', 'Frank', 'Grace', 'Helen', 'Ian', 'Julia'],\n",
    "    'Age': [20, 22, 21, None, 20, 23, 19, 22, 21, 20],  # Missing age for David\n",
    "    'Gender': ['F', 'M', 'M', 'M', 'F', 'M', 'F', 'F', 'M', 'F'],\n",
    "    'Department': ['CS', 'EC', 'EE', 'CS', 'EC', 'EE', 'CS', 'EC', 'EE', 'CS'],\n",
    "    'Marks': ['85%', '90%', '70%', 'N/A', '95%', 'invalid', '78%', '88%', '72%', '80%'],  # Inconsistent & missing marks\n",
    "    'Height_cm': [165, 170, 180, 155, 175, 182, 168, 160, 178, 172],\n",
    "    'Weight_kg': [58, 70, 80, 55, 65, 85, 58, 56, 75, 62],\n",
    "    'Email': ['alice@example.com', '', 'charlie@univ.edu', 'david@yahoo.com', 'eva@gmail.com',\n",
    "              'frank@uni.ac.in', 'grace@email.com', 'helen@abc.org', 'ian@edu.net', 'julia@school.edu']\n",
    "}"
   ]
  },
  {
   "cell_type": "code",
   "execution_count": null,
   "id": "c863f0f9",
   "metadata": {},
   "outputs": [],
   "source": [
    "df1 = pd.DataFrame(data1)\n",
    "df1"
   ]
  },
  {
   "cell_type": "code",
   "execution_count": null,
   "id": "c1e91911",
   "metadata": {},
   "outputs": [],
   "source": [
    "val = df1['Email']!=''\n",
    "processed_df = df1[val].copy()\n",
    "processed_df"
   ]
  },
  {
   "cell_type": "code",
   "execution_count": null,
   "id": "e697dc32",
   "metadata": {},
   "outputs": [],
   "source": [
    "processed_df['Age'] = processed_df['Age'].fillna(processed_df['Age'].median())\n",
    "processed_df"
   ]
  },
  {
   "cell_type": "code",
   "execution_count": null,
   "id": "3b0e913f",
   "metadata": {},
   "outputs": [],
   "source": [
    "processed_df['Marks'] = processed_df['Marks'].replace({'N/A': None, 'invalid':None})\n",
    "processed_df['Marks']= processed_df['Marks'].str.replace('%','').astype(float)\n",
    "processed_df['Marks'] = processed_df['Marks'].fillna(processed_df['Marks'].mean())\n",
    "\n",
    "processed_df"
   ]
  },
  {
   "cell_type": "code",
   "execution_count": null,
   "id": "8237402d",
   "metadata": {},
   "outputs": [],
   "source": [
    "# Data Wrangling\n",
    "df2 = processed_df.copy()\n",
    "df2['Gender']= df2['Gender'].replace({'F':'Female','M':'Male'})\n",
    "df2"
   ]
  },
  {
   "cell_type": "code",
   "execution_count": null,
   "id": "d86b54f8",
   "metadata": {},
   "outputs": [],
   "source": [
    "# Handllig Outliers and unrealistic values\n",
    "df3 = df2[(df2['Height_cm']>150) & (df2['Weight_kg']<100)]\n",
    "df3"
   ]
  },
  {
   "cell_type": "code",
   "execution_count": null,
   "id": "9442f339",
   "metadata": {},
   "outputs": [],
   "source": [
    "# Another dataset from a different department\n",
    "new = {\n",
    "    'StudentID': [101, 102, 103, 104, 105],\n",
    "    'Attendance': [90, 85, 95, 70, 92]\n",
    "}\n",
    "df_attendance = pd.DataFrame(new)\n",
    "\n",
    "# Merge both datasets\n",
    "df_integrated = pd.merge(df3, df_attendance, on='StudentID', how='left')\n",
    "df_integrated"
   ]
  },
  {
   "cell_type": "code",
   "execution_count": null,
   "id": "ee525226",
   "metadata": {},
   "outputs": [],
   "source": [
    "# Data Aggregation\n",
    "aggregate = df_integrated.groupby('Department')['Marks'].agg(['mean','max','min'])\n",
    "aggregate"
   ]
  },
  {
   "cell_type": "code",
   "execution_count": null,
   "id": "a286a586",
   "metadata": {},
   "outputs": [],
   "source": [
    "from sklearn.preprocessing import MinMaxScaler,StandardScaler\n",
    "\n",
    "scaler = MinMaxScaler()\n",
    "df_integrated[['Marks_MinMax', 'Height_MinMax', 'Weight_MinMax']] = scaler.fit_transform(df_integrated[['Marks', 'Height_cm', 'Weight_kg']])\n",
    "\n",
    "# Z-Score Normalization\n",
    "stdscaler = StandardScaler()\n",
    "df_integrated[['Marks_Standard', 'Height_Standard', 'Weight_Standard']] = stdscaler.fit_transform(df_integrated[['Marks', 'Height_cm', 'Weight_kg']])\n",
    "df_integrated"
   ]
  },
  {
   "cell_type": "code",
   "execution_count": null,
   "id": "f3d31a76",
   "metadata": {},
   "outputs": [],
   "source": [
    "last = df_integrated.copy()\n",
    "last['Graduation'] = last.apply(lambda row: 'Pass' if (row['Marks'] >= 50 and pd.notnull(row['Attendance'])) else 'Fail', axis=1)\n",
    "last\n"
   ]
  },
  {
   "cell_type": "code",
   "execution_count": null,
   "id": "cf69e7a3",
   "metadata": {},
   "outputs": [],
   "source": [
    "last['BMI'] = last['Weight_kg'] / ((last['Height_cm']/100)**2)\n",
    "last"
   ]
  },
  {
   "cell_type": "code",
   "execution_count": null,
   "id": "7b4a0790",
   "metadata": {},
   "outputs": [],
   "source": []
  }
 ],
 "metadata": {
  "kernelspec": {
   "display_name": "Python 3",
   "language": "python",
   "name": "python3"
  },
  "language_info": {
   "codemirror_mode": {
    "name": "ipython",
    "version": 3
   },
   "file_extension": ".py",
   "mimetype": "text/x-python",
   "name": "python",
   "nbconvert_exporter": "python",
   "pygments_lexer": "ipython3",
   "version": "3.12.6"
  }
 },
 "nbformat": 4,
 "nbformat_minor": 5
}
